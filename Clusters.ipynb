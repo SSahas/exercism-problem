{
 "cells": [
  {
   "cell_type": "code",
   "execution_count": 10,
   "id": "7d1ea44f",
   "metadata": {},
   "outputs": [],
   "source": [
    "import numpy as np\n",
    "import pandas as pd\n",
    "import matplotlib.pyplot as plt"
   ]
  },
  {
   "cell_type": "code",
   "execution_count": 11,
   "id": "3228f539",
   "metadata": {},
   "outputs": [],
   "source": [
    "#data1 = {\"X\" : [2,2,3,3,3,3,3,3,3,4,4,4,4,4,4,4,4,5,5,5,5,5,5,5,6,6,6,6,6,6,6,6],\n",
    "         #\"Y\" : [2,3,1,2,3,4,5,6,8,1,2,3,4,5,6,8,9,1,2,3,4,5,6,8,1,2,3,4,5,6,7,8]}\n",
    "#data2 = {\"X\" : [8,8,8,8,8,8,8,9,9,9,9,9,9,9,10,10,10,10,10,10,10,11,11,11,11,11,11,11,12,12,12,12],\n",
    "        # \"Y\"  : [5,6,7,8,9,10,11,5,6,7,8,9,10,11,5,6,7,8,9,10,11,5,6,7,8,9,10,11,5,7,9,11]}\n",
    "data = {\"X\"  : [2,2,3,3,3,3,3,3,3,4,4,4,4,4,4,4,4,5,5,5,5,5,5,5,6,6,6,6,6,6,6,6,8,8,8,8,8,8,8,9,9,9,9,9,9,9,10,10,10,10,10,10,10,11,11,11,11,11,11,11,12,12,12,12],\n",
    "        \"Y\"  : [2,3,1,2,3,4,5,6,8,1,2,3,4,5,6,8,9,1,2,3,4,5,6,8,1,2,3,4,5,6,7,8,5,6,7,8,9,10,11,5,6,7,8,9,10,11,5,6,7,8,9,10,11,5,6,7,8,9,10,11,5,7,9,11],\n",
    "         }"
   ]
  },
  {
   "cell_type": "code",
   "execution_count": 12,
   "id": "866c8e91",
   "metadata": {},
   "outputs": [],
   "source": [
    "#df1 = pd.DataFrame(data1)\n",
    "#df2 = pd.DataFrame(data2)\n",
    "df = pd.DataFrame(data)"
   ]
  },
  {
   "cell_type": "code",
   "execution_count": 13,
   "id": "93e2e38f",
   "metadata": {},
   "outputs": [
    {
     "data": {
      "image/png": "[encoded data removed]",
      "text/plain": [
       "<Figure size 720x432 with 1 Axes>"
      ]
     },
     "metadata": {
      "needs_background": "light"
     },
     "output_type": "display_data"
    }
   ],
   "source": [
    "plt.figure(figsize = (10, 6))\n",
    "plt.xlabel(\"X axis\")\n",
    "plt.ylabel(\"Y axis\")\n",
    "plt.scatter(df[\"X\"], df[\"Y\"], color = \"red\")\n",
    "#plt.scatter(df2[\"X\"], df2[\"Y\"], color = \"green\")\n",
    "plt.show()"
   ]
  },
  {
   "cell_type": "code",
   "execution_count": 14,
   "id": "c15f7bdf",
   "metadata": {},
   "outputs": [],
   "source": [
    "#benigh = np.array(data1)\n",
    "#malignant = np.array(data2)\n",
    "cases  = np.array(df)\n"
   ]
  },
  {
   "cell_type": "code",
   "execution_count": 15,
   "id": "2fcc3858",
   "metadata": {},
   "outputs": [
    {
     "data": {
      "text/plain": [
       "2"
      ]
     },
     "execution_count": 15,
     "metadata": {},
     "output_type": "execute_result"
    }
   ],
   "source": [
    "c_1 = [2, 2]\n",
    "c_2 = [12, 4]   \n",
    "c_1[0]"
   ]
  },
  {
   "cell_type": "code",
   "execution_count": 16,
   "id": "e85c0c82",
   "metadata": {},
   "outputs": [],
   "source": [
    "def move_centroid(c1_n, c1_i, c1_j, c2_n, c2_i, c2_j):\n",
    "    c_1[0] = c1_i / c1_n \n",
    "    c_1[1] = c1_j / c1_n\n",
    "    \n",
    "    c_2[0] = c2_i / c2_n \n",
    "    c_2[1] = c2_j / c2_n\n",
    "    \n",
    "    return c_1[0], c_1[1], c_2[0], c_2[1]"
   ]
  },
  {
   "cell_type": "code",
   "execution_count": 17,
   "id": "39ba6e01",
   "metadata": {},
   "outputs": [],
   "source": [
    "def assigh_centroid(c_1, c_2, cases):\n",
    "    \n",
    "    c1_n = 0\n",
    "    c2_n = 0\n",
    "    c1_i = 0\n",
    "    c2_i = 0\n",
    "    c1_j = 0\n",
    "    c2_j = 0    \n",
    "    for i,j in cases:\n",
    "        d_1 = (c_1[0] - i)** 2 + (c_1[1] - j)** 2\n",
    "        d_2 = (c_2[0] - i)** 2 + (c_2[1] - j)** 2\n",
    "        if d_1 > d_2:\n",
    "            c1_n = c1_n + 1\n",
    "            c1_i = c1_i + i\n",
    "            c1_j = c1_j + j\n",
    "        else:\n",
    "            c2_n = c2_n + 1\n",
    "            c2_i = c2_i + i\n",
    "            c2_j = c2_j + j\n",
    "            \n",
    "            \n",
    "    c1_x, c1_y, c2_x, c2_y = move_centroid(c1_n,c1_i, c1_j, c2_n, c2_i, c2_j)\n",
    "        \n",
    "    return c1_x, c1_y, c2_x, c2_y"
   ]
  },
  {
   "cell_type": "code",
   "execution_count": 18,
   "id": "820e46c7",
   "metadata": {},
   "outputs": [
    {
     "name": "stdout",
     "output_type": "stream",
     "text": [
      " The centroid 1 is (4.32258064516129, 4.161290322580645), The centroid 2 is (9.696969696969697, 8.0)\n"
     ]
    }
   ],
   "source": [
    "for k in range(20):\n",
    "    c1_x, c1_y, c2_x, c2_y = assigh_centroid(c_1, c_2, cases)\n",
    "    \n",
    "\n",
    "print(f\" The centroid 1 is {(c1_x, c1_y)}, The centroid 2 is {(c2_x, c2_y)}\")\n",
    "    "
   ]
  },
  {
   "cell_type": "code",
   "execution_count": null,
   "id": "029819a5",
   "metadata": {},
   "outputs": [],
   "source": [
    "\n",
    "    \n",
    "    \n",
    "    "
   ]
  },
  {
   "cell_type": "code",
   "execution_count": null,
   "id": "1c9c0efd",
   "metadata": {},
   "outputs": [],
   "source": []
  },
  {
   "cell_type": "code",
   "execution_count": null,
   "id": "e6c2dc25",
   "metadata": {},
   "outputs": [],
   "source": []
  }
 ],
 "metadata": {
  "kernelspec": {
   "display_name": "Python 3 (ipykernel)",
   "language": "python",
   "name": "python3"
  },
  "language_info": {
   "codemirror_mode": {
    "name": "ipython",
    "version": 3
   },
   "file_extension": ".py",
   "mimetype": "text/x-python",
   "name": "python",
   "nbconvert_exporter": "python",
   "pygments_lexer": "ipython3",
   "version": "3.9.7"
  }
 },
 "nbformat": 4,
 "nbformat_minor": 5
}
