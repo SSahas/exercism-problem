{
 "cells": [
  {
   "cell_type": "code",
   "execution_count": 20,
   "id": "766e649e",
   "metadata": {},
   "outputs": [],
   "source": [
    "import numpy as np\n",
    "import pandas as pd\n",
    "import matplotlib.pyplot as plt\n",
    "import math"
   ]
  },
  {
   "cell_type": "code",
   "execution_count": 21,
   "id": "ac70ee24",
   "metadata": {},
   "outputs": [],
   "source": [
    "data1 = {\"X\"  : [2,2,3,3,3,3,3,3,3,4,4,4,4,4,4,4,4,5,5,5,5,5,5,5,6,6,6,6,6,6,6,6,8,8,8,8,8,8,8,9,9,9,9,9,9,9,10,10,10,10,10,10,10,11,11,11,11,11,11,11,12,12,12,12],\n",
    "               \"Y\"  : [2,3,1,2,3,4,5,6,8,1,2,3,4,5,6,8,9,1,2,3,4,5,6,8,1,2,3,4,5,6,7,8,5,6,7,8,9,10,11,5,6,7,8,9,10,11,5,6,7,8,9,10,11,5,6,7,8,9,10,11,5,7,9,11],\n",
    "    }\n",
    "data2 = { \"X\" : [1,1,1,1,2,2,2,2,3,3,3,3,4,4,4,4,6,6,6,6,6,6,6,7,7,7,7,7,7,7,8,8,8,8,8,8,8,9,9,9,9,9,9,9,10,10,10,10,10,10,10,11,11,11,11,11,11,11,12,12,12,12,12,12,12],         \n",
    "        \"Y\" : [1,2,3,4,1,2,3,4,1,2,3,4,1,2,3,4,6,7,8,9,10,11,12,6,7,8,9,10,11,12,6,7,8,9,10,11,12,6,7,8,9,10,11,12,6,7,8,9,10,11,12,6,7,8,9,10,11,12,6,7,8,9,10,11,12]\n",
    "        \n",
    "       }\n",
    "\n",
    "\n",
    "data = data1\n"
   ]
  },
  {
   "cell_type": "code",
   "execution_count": 22,
   "id": "a12a3b66",
   "metadata": {},
   "outputs": [],
   "source": [
    "df = pd.DataFrame(data)\n",
    "cases = np.array(df)\n"
   ]
  },
  {
   "cell_type": "code",
   "execution_count": 23,
   "id": "c12e2d03",
   "metadata": {},
   "outputs": [
    {
     "data": {
      "image/png": "[encoded data removed]",
      "text/plain": [
       "<Figure size 1080x720 with 1 Axes>"
      ]
     },
     "metadata": {
      "needs_background": "light"
     },
     "output_type": "display_data"
    }
   ],
   "source": [
    "plt.figure(figsize = (15, 10))\n",
    "plt.xlabel(\"X axis\")\n",
    "plt.ylabel(\"Y axis\")\n",
    "plt.scatter(df[\"X\"], df[\"Y\"], color = \"red\")\n",
    "\n",
    "plt.show()"
   ]
  },
  {
   "cell_type": "code",
   "execution_count": 24,
   "id": "aa4719a3",
   "metadata": {},
   "outputs": [],
   "source": [
    "centroids = { 1 : [2, 2],\n",
    "             2 : [10, 12],\n",
    "            \n",
    "              }"
   ]
  },
  {
   "cell_type": "code",
   "execution_count": 25,
   "id": "38a3874c",
   "metadata": {},
   "outputs": [],
   "source": [
    "def move_centroid(counters, n_centroids, centroids, len_of_centroid, dim_of_centroid):\n",
    "    \n",
    "    for i in range(len_of_centroid):\n",
    "        for k in range(dim_of_centroid):\n",
    "            centroids[i + 1][k] = counters[i + 1][k] / n_centroids[i]\n",
    "        \n",
    "    return centroids \n",
    "            "
   ]
  },
  {
   "cell_type": "code",
   "execution_count": 26,
   "id": "cae5e500",
   "metadata": {},
   "outputs": [],
   "source": [
    "def assigh_centroid(centroids, cases, dim_of_centroid, len_of_centroid):\n",
    "    \n",
    "    counters = {x + 1 : [0] * dim_of_centroid for x in range(len_of_centroid)}\n",
    "    n_centroids = [0] * len_of_centroid\n",
    "    \n",
    "    li = [0] * dim_of_centroid\n",
    "    for li in cases:\n",
    "        Distance = []\n",
    "        for x in centroids:\n",
    "            \n",
    "            Distance.append(math.dist(centroids[x], li))\n",
    "            \n",
    "        minn = Distance.index(min(Distance))\n",
    "        \n",
    "        n_centroids[minn] = n_centroids[minn] + 1\n",
    "        \n",
    "      \n",
    "        \n",
    "        for x in range(dim_of_centroid):\n",
    "            counters[minn +1][x]  = counters[minn + 1][x] + li[x]\n",
    "            \n",
    "            \n",
    "        \n",
    "    Centroid = move_centroid(counters, n_centroids, centroids, len_of_centroid, dim_of_centroid)\n",
    "    \n",
    "    return Centroid\n",
    "   "
   ]
  },
  {
   "cell_type": "code",
   "execution_count": 27,
   "id": "ac4b1b04",
   "metadata": {},
   "outputs": [],
   "source": [
    "\n",
    "def Run(centroids, cases):\n",
    "    \n",
    "    dim_of_centroid = len(centroids[1])\n",
    "    len_of_centroid = len(centroids)\n",
    "    \n",
    "    try:\n",
    "        for k in range(10):\n",
    "            CENTROIDS = assigh_centroid(centroids, cases, dim_of_centroid, len_of_centroid)\n",
    "    except ZeroDivisionError:\n",
    "        print(\"Given centroids are suitable :(\")\n",
    "    except TypeError:\n",
    "        print(\"Didn't Entered the valid centroids\")\n",
    "        \n",
    "   \n",
    "    return CENTROIDS\n"
   ]
  },
  {
   "cell_type": "code",
   "execution_count": 28,
   "id": "aedb22d1",
   "metadata": {},
   "outputs": [
    {
     "name": "stdout",
     "output_type": "stream",
     "text": [
      "{1: [4.32258064516129, 4.161290322580645], 2: [9.696969696969697, 8.0]}\n"
     ]
    }
   ],
   "source": [
    "cen = Run(centroids, cases)\n",
    "print(cen)"
   ]
  },
  {
   "cell_type": "code",
   "execution_count": null,
   "id": "13fefc58",
   "metadata": {},
   "outputs": [],
   "source": []
  },
  {
   "cell_type": "code",
   "execution_count": null,
   "id": "f8766356",
   "metadata": {},
   "outputs": [],
   "source": []
  }
 ],
 "metadata": {
  "kernelspec": {
   "display_name": "Python 3 (ipykernel)",
   "language": "python",
   "name": "python3"
  },
  "language_info": {
   "codemirror_mode": {
    "name": "ipython",
    "version": 3
   },
   "file_extension": ".py",
   "mimetype": "text/x-python",
   "name": "python",
   "nbconvert_exporter": "python",
   "pygments_lexer": "ipython3",
   "version": "3.9.7"
  }
 },
 "nbformat": 4,
 "nbformat_minor": 5
}
